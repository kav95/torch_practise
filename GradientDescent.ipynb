{
  "nbformat": 4,
  "nbformat_minor": 0,
  "metadata": {
    "colab": {
      "name": "GradientDescent.ipynb",
      "provenance": [],
      "include_colab_link": true
    },
    "kernelspec": {
      "name": "python3",
      "display_name": "Python 3"
    }
  },
  "cells": [
    {
      "cell_type": "markdown",
      "metadata": {
        "id": "view-in-github",
        "colab_type": "text"
      },
      "source": [
        "<a href=\"https://colab.research.google.com/github/kav95/torch_practise/blob/master/GradientDescent.ipynb\" target=\"_parent\"><img src=\"https://colab.research.google.com/assets/colab-badge.svg\" alt=\"Open In Colab\"/></a>"
      ]
    },
    {
      "cell_type": "code",
      "metadata": {
        "id": "8Tq_K-FPM7zo",
        "colab_type": "code",
        "colab": {}
      },
      "source": [
        "import torch\n",
        "import torch.nn as nn\n",
        "import matplotlib.pyplot as plt\n",
        "import numpy as np"
      ],
      "execution_count": 0,
      "outputs": []
    },
    {
      "cell_type": "code",
      "metadata": {
        "id": "zZQOK-NyNKzm",
        "colab_type": "code",
        "colab": {
          "base_uri": "https://localhost:8080/",
          "height": 300
        },
        "outputId": "2be14985-a436-44cb-e905-c5b2f2af74b6"
      },
      "source": [
        "X = torch.randn(100, 1)*10\n",
        "y = X + 3*torch.randn(100, 1)\n",
        "plt.plot(X, y, 'o')\n",
        "plt.ylabel('y')\n",
        "plt.xlabel('X')"
      ],
      "execution_count": 2,
      "outputs": [
        {
          "output_type": "execute_result",
          "data": {
            "text/plain": [
              "Text(0.5, 0, 'X')"
            ]
          },
          "metadata": {
            "tags": []
          },
          "execution_count": 2
        },
        {
          "output_type": "display_data",
          "data": {
            "image/png": "[encoded data removed]",
            "text/plain": [
              "<Figure size 432x288 with 1 Axes>"
            ]
          },
          "metadata": {
            "tags": []
          }
        }
      ]
    },
    {
      "cell_type": "code",
      "metadata": {
        "id": "pwJBtdKvOTld",
        "colab_type": "code",
        "colab": {}
      },
      "source": [
        "class LR(nn.Module):\n",
        "  def __init__(self, input_size, output_size):\n",
        "    super().__init__()\n",
        "    self.linear = nn.Linear(input_size, output_size)\n",
        "  def forward(self, x):\n",
        "    pred = self.linear(x)\n",
        "    return pred"
      ],
      "execution_count": 0,
      "outputs": []
    },
    {
      "cell_type": "code",
      "metadata": {
        "id": "7tb4a_j_OcHQ",
        "colab_type": "code",
        "colab": {}
      },
      "source": [
        "torch.manual_seed(1)\n",
        "model = LR(1, 1)"
      ],
      "execution_count": 0,
      "outputs": []
    },
    {
      "cell_type": "code",
      "metadata": {
        "id": "JZCAlwWDPuf3",
        "colab_type": "code",
        "colab": {}
      },
      "source": [
        "[w, b] = model.parameters()\n",
        "\n",
        "def get_params():\n",
        "  return (w[0][0].item(), b[0].item())"
      ],
      "execution_count": 0,
      "outputs": []
    },
    {
      "cell_type": "code",
      "metadata": {
        "id": "tfFzjvOORiTL",
        "colab_type": "code",
        "colab": {}
      },
      "source": [
        "def plot_fit(title):\n",
        "  [w, b] = get_params()\n",
        "  x1 = np.array([-30, 30])\n",
        "  y1 = w*x1 + b\n",
        "  plt.plot(x1, y1, 'r')\n",
        "  plt.scatter(X, y)\n",
        "  plt.show()"
      ],
      "execution_count": 0,
      "outputs": []
    },
    {
      "cell_type": "code",
      "metadata": {
        "id": "oJw5IjxtSJVu",
        "colab_type": "code",
        "colab": {
          "base_uri": "https://localhost:8080/",
          "height": 269
        },
        "outputId": "fe8e08c8-961b-4f48-cd34-6095a1bbfe87"
      },
      "source": [
        "plot_fit('Initial model')"
      ],
      "execution_count": 7,
      "outputs": [
        {
          "output_type": "display_data",
          "data": {
            "image/png": "[encoded data removed]",
            "text/plain": [
              "<Figure size 432x288 with 1 Axes>"
            ]
          },
          "metadata": {
            "tags": []
          }
        }
      ]
    },
    {
      "cell_type": "code",
      "metadata": {
        "id": "MMhcRjh_SD1r",
        "colab_type": "code",
        "colab": {
          "base_uri": "https://localhost:8080/",
          "height": 1000
        },
        "outputId": "24bf87b6-3bed-4a0f-fc4d-7c5ac5dd0f64"
      },
      "source": [
        "criterion = nn.MSELoss()\n",
        "optimiser = torch.optim.SGD(model.parameters(), lr = 0.01)\n",
        "\n",
        "epochs = 100\n",
        "losses = []\n",
        "\n",
        "for i in range(epochs):\n",
        "  y_pred = model.forward(X)\n",
        "  loss = criterion(y_pred, y)\n",
        "  print(\"epoch: \", i, \"loss: \", loss)\n",
        "  \n",
        "  losses.append(loss)\n",
        "  optimiser.zero_grad()\n",
        "  loss.backward()\n",
        "  optimiser.step()"
      ],
      "execution_count": 8,
      "outputs": [
        {
          "output_type": "stream",
          "text": [
            "epoch:  0 loss:  tensor(34.8674, grad_fn=<MseLossBackward>)\n",
            "epoch:  1 loss:  tensor(25.8198, grad_fn=<MseLossBackward>)\n",
            "epoch:  2 loss:  tensor(19.8054, grad_fn=<MseLossBackward>)\n",
            "epoch:  3 loss:  tensor(15.8073, grad_fn=<MseLossBackward>)\n",
            "epoch:  4 loss:  tensor(13.1494, grad_fn=<MseLossBackward>)\n",
            "epoch:  5 loss:  tensor(11.3823, grad_fn=<MseLossBackward>)\n",
            "epoch:  6 loss:  tensor(10.2075, grad_fn=<MseLossBackward>)\n",
            "epoch:  7 loss:  tensor(9.4263, grad_fn=<MseLossBackward>)\n",
            "epoch:  8 loss:  tensor(8.9067, grad_fn=<MseLossBackward>)\n",
            "epoch:  9 loss:  tensor(8.5611, grad_fn=<MseLossBackward>)\n",
            "epoch:  10 loss:  tensor(8.3312, grad_fn=<MseLossBackward>)\n",
            "epoch:  11 loss:  tensor(8.1781, grad_fn=<MseLossBackward>)\n",
            "epoch:  12 loss:  tensor(8.0761, grad_fn=<MseLossBackward>)\n",
            "epoch:  13 loss:  tensor(8.0081, grad_fn=<MseLossBackward>)\n",
            "epoch:  14 loss:  tensor(7.9627, grad_fn=<MseLossBackward>)\n",
            "epoch:  15 loss:  tensor(7.9323, grad_fn=<MseLossBackward>)\n",
            "epoch:  16 loss:  tensor(7.9120, grad_fn=<MseLossBackward>)\n",
            "epoch:  17 loss:  tensor(7.8982, grad_fn=<MseLossBackward>)\n",
            "epoch:  18 loss:  tensor(7.8889, grad_fn=<MseLossBackward>)\n",
            "epoch:  19 loss:  tensor(7.8826, grad_fn=<MseLossBackward>)\n",
            "epoch:  20 loss:  tensor(7.8782, grad_fn=<MseLossBackward>)\n",
            "epoch:  21 loss:  tensor(7.8752, grad_fn=<MseLossBackward>)\n",
            "epoch:  22 loss:  tensor(7.8730, grad_fn=<MseLossBackward>)\n",
            "epoch:  23 loss:  tensor(7.8714, grad_fn=<MseLossBackward>)\n",
            "epoch:  24 loss:  tensor(7.8702, grad_fn=<MseLossBackward>)\n",
            "epoch:  25 loss:  tensor(7.8692, grad_fn=<MseLossBackward>)\n",
            "epoch:  26 loss:  tensor(7.8685, grad_fn=<MseLossBackward>)\n",
            "epoch:  27 loss:  tensor(7.8679, grad_fn=<MseLossBackward>)\n",
            "epoch:  28 loss:  tensor(7.8674, grad_fn=<MseLossBackward>)\n",
            "epoch:  29 loss:  tensor(7.8669, grad_fn=<MseLossBackward>)\n",
            "epoch:  30 loss:  tensor(7.8665, grad_fn=<MseLossBackward>)\n",
            "epoch:  31 loss:  tensor(7.8661, grad_fn=<MseLossBackward>)\n",
            "epoch:  32 loss:  tensor(7.8658, grad_fn=<MseLossBackward>)\n",
            "epoch:  33 loss:  tensor(7.8654, grad_fn=<MseLossBackward>)\n",
            "epoch:  34 loss:  tensor(7.8651, grad_fn=<MseLossBackward>)\n",
            "epoch:  35 loss:  tensor(7.8648, grad_fn=<MseLossBackward>)\n",
            "epoch:  36 loss:  tensor(7.8646, grad_fn=<MseLossBackward>)\n",
            "epoch:  37 loss:  tensor(7.8643, grad_fn=<MseLossBackward>)\n",
            "epoch:  38 loss:  tensor(7.8640, grad_fn=<MseLossBackward>)\n",
            "epoch:  39 loss:  tensor(7.8638, grad_fn=<MseLossBackward>)\n",
            "epoch:  40 loss:  tensor(7.8636, grad_fn=<MseLossBackward>)\n",
            "epoch:  41 loss:  tensor(7.8633, grad_fn=<MseLossBackward>)\n",
            "epoch:  42 loss:  tensor(7.8631, grad_fn=<MseLossBackward>)\n",
            "epoch:  43 loss:  tensor(7.8629, grad_fn=<MseLossBackward>)\n",
            "epoch:  44 loss:  tensor(7.8627, grad_fn=<MseLossBackward>)\n",
            "epoch:  45 loss:  tensor(7.8625, grad_fn=<MseLossBackward>)\n",
            "epoch:  46 loss:  tensor(7.8623, grad_fn=<MseLossBackward>)\n",
            "epoch:  47 loss:  tensor(7.8622, grad_fn=<MseLossBackward>)\n",
            "epoch:  48 loss:  tensor(7.8620, grad_fn=<MseLossBackward>)\n",
            "epoch:  49 loss:  tensor(7.8618, grad_fn=<MseLossBackward>)\n",
            "epoch:  50 loss:  tensor(7.8617, grad_fn=<MseLossBackward>)\n",
            "epoch:  51 loss:  tensor(7.8615, grad_fn=<MseLossBackward>)\n",
            "epoch:  52 loss:  tensor(7.8614, grad_fn=<MseLossBackward>)\n",
            "epoch:  53 loss:  tensor(7.8613, grad_fn=<MseLossBackward>)\n",
            "epoch:  54 loss:  tensor(7.8611, grad_fn=<MseLossBackward>)\n",
            "epoch:  55 loss:  tensor(7.8610, grad_fn=<MseLossBackward>)\n",
            "epoch:  56 loss:  tensor(7.8609, grad_fn=<MseLossBackward>)\n",
            "epoch:  57 loss:  tensor(7.8608, grad_fn=<MseLossBackward>)\n",
            "epoch:  58 loss:  tensor(7.8606, grad_fn=<MseLossBackward>)\n",
            "epoch:  59 loss:  tensor(7.8605, grad_fn=<MseLossBackward>)\n",
            "epoch:  60 loss:  tensor(7.8604, grad_fn=<MseLossBackward>)\n",
            "epoch:  61 loss:  tensor(7.8603, grad_fn=<MseLossBackward>)\n",
            "epoch:  62 loss:  tensor(7.8602, grad_fn=<MseLossBackward>)\n",
            "epoch:  63 loss:  tensor(7.8601, grad_fn=<MseLossBackward>)\n",
            "epoch:  64 loss:  tensor(7.8601, grad_fn=<MseLossBackward>)\n",
            "epoch:  65 loss:  tensor(7.8600, grad_fn=<MseLossBackward>)\n",
            "epoch:  66 loss:  tensor(7.8599, grad_fn=<MseLossBackward>)\n",
            "epoch:  67 loss:  tensor(7.8598, grad_fn=<MseLossBackward>)\n",
            "epoch:  68 loss:  tensor(7.8597, grad_fn=<MseLossBackward>)\n",
            "epoch:  69 loss:  tensor(7.8597, grad_fn=<MseLossBackward>)\n",
            "epoch:  70 loss:  tensor(7.8596, grad_fn=<MseLossBackward>)\n",
            "epoch:  71 loss:  tensor(7.8595, grad_fn=<MseLossBackward>)\n",
            "epoch:  72 loss:  tensor(7.8595, grad_fn=<MseLossBackward>)\n",
            "epoch:  73 loss:  tensor(7.8594, grad_fn=<MseLossBackward>)\n",
            "epoch:  74 loss:  tensor(7.8593, grad_fn=<MseLossBackward>)\n",
            "epoch:  75 loss:  tensor(7.8593, grad_fn=<MseLossBackward>)\n",
            "epoch:  76 loss:  tensor(7.8592, grad_fn=<MseLossBackward>)\n",
            "epoch:  77 loss:  tensor(7.8592, grad_fn=<MseLossBackward>)\n",
            "epoch:  78 loss:  tensor(7.8591, grad_fn=<MseLossBackward>)\n",
            "epoch:  79 loss:  tensor(7.8591, grad_fn=<MseLossBackward>)\n",
            "epoch:  80 loss:  tensor(7.8590, grad_fn=<MseLossBackward>)\n",
            "epoch:  81 loss:  tensor(7.8590, grad_fn=<MseLossBackward>)\n",
            "epoch:  82 loss:  tensor(7.8589, grad_fn=<MseLossBackward>)\n",
            "epoch:  83 loss:  tensor(7.8589, grad_fn=<MseLossBackward>)\n",
            "epoch:  84 loss:  tensor(7.8589, grad_fn=<MseLossBackward>)\n",
            "epoch:  85 loss:  tensor(7.8588, grad_fn=<MseLossBackward>)\n",
            "epoch:  86 loss:  tensor(7.8588, grad_fn=<MseLossBackward>)\n",
            "epoch:  87 loss:  tensor(7.8588, grad_fn=<MseLossBackward>)\n",
            "epoch:  88 loss:  tensor(7.8587, grad_fn=<MseLossBackward>)\n",
            "epoch:  89 loss:  tensor(7.8587, grad_fn=<MseLossBackward>)\n",
            "epoch:  90 loss:  tensor(7.8587, grad_fn=<MseLossBackward>)\n",
            "epoch:  91 loss:  tensor(7.8586, grad_fn=<MseLossBackward>)\n",
            "epoch:  92 loss:  tensor(7.8586, grad_fn=<MseLossBackward>)\n",
            "epoch:  93 loss:  tensor(7.8586, grad_fn=<MseLossBackward>)\n",
            "epoch:  94 loss:  tensor(7.8585, grad_fn=<MseLossBackward>)\n",
            "epoch:  95 loss:  tensor(7.8585, grad_fn=<MseLossBackward>)\n",
            "epoch:  96 loss:  tensor(7.8585, grad_fn=<MseLossBackward>)\n",
            "epoch:  97 loss:  tensor(7.8585, grad_fn=<MseLossBackward>)\n",
            "epoch:  98 loss:  tensor(7.8585, grad_fn=<MseLossBackward>)\n",
            "epoch:  99 loss:  tensor(7.8584, grad_fn=<MseLossBackward>)\n"
          ],
          "name": "stdout"
        }
      ]
    },
    {
      "cell_type": "code",
      "metadata": {
        "id": "f780czbh0QpA",
        "colab_type": "code",
        "colab": {
          "base_uri": "https://localhost:8080/",
          "height": 300
        },
        "outputId": "c1153509-ebb7-4c95-e9dd-d821d5b5add6"
      },
      "source": [
        "plt.plot(range(epochs), losses)\n",
        "plt.ylabel('loss')\n",
        "plt.xlabel('epoch')"
      ],
      "execution_count": 9,
      "outputs": [
        {
          "output_type": "execute_result",
          "data": {
            "text/plain": [
              "Text(0.5, 0, 'epoch')"
            ]
          },
          "metadata": {
            "tags": []
          },
          "execution_count": 9
        },
        {
          "output_type": "display_data",
          "data": {
            "image/png": "[encoded data removed]",
            "text/plain": [
              "<Figure size 432x288 with 1 Axes>"
            ]
          },
          "metadata": {
            "tags": []
          }
        }
      ]
    },
    {
      "cell_type": "code",
      "metadata": {
        "id": "hclhNjAh1NOf",
        "colab_type": "code",
        "colab": {
          "base_uri": "https://localhost:8080/",
          "height": 269
        },
        "outputId": "7e1d054c-2c55-49b3-a9e2-b8b40e50597b"
      },
      "source": [
        "plot_fit('Trained model')"
      ],
      "execution_count": 10,
      "outputs": [
        {
          "output_type": "display_data",
          "data": {
            "image/png": "[encoded data removed]",
            "text/plain": [
              "<Figure size 432x288 with 1 Axes>"
            ]
          },
          "metadata": {
            "tags": []
          }
        }
      ]
    }
  ]
}