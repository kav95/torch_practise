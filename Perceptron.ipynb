{
  "nbformat": 4,
  "nbformat_minor": 0,
  "metadata": {
    "colab": {
      "name": "Perceptron.ipynb",
      "provenance": [],
      "include_colab_link": true
    },
    "kernelspec": {
      "name": "python3",
      "display_name": "Python 3"
    }
  },
  "cells": [
    {
      "cell_type": "markdown",
      "metadata": {
        "id": "view-in-github",
        "colab_type": "text"
      },
      "source": [
        "<a href=\"https://colab.research.google.com/github/kav95/torch_practise/blob/master/Perceptron.ipynb\" target=\"_parent\"><img src=\"https://colab.research.google.com/assets/colab-badge.svg\" alt=\"Open In Colab\"/></a>"
      ]
    },
    {
      "cell_type": "code",
      "metadata": {
        "id": "N7EHfwR6DPH7",
        "colab_type": "code",
        "colab": {}
      },
      "source": [
        "import torch \n",
        "import torch.nn as nn\n",
        "import numpy as np\n",
        "import matplotlib.pyplot as plt\n",
        "from sklearn import datasets"
      ],
      "execution_count": 0,
      "outputs": []
    },
    {
      "cell_type": "code",
      "metadata": {
        "id": "jTajDrwcIDtw",
        "colab_type": "code",
        "colab": {}
      },
      "source": [
        "n_pts = 100\n",
        "centers = [[-5.0, 5.0], [5.0, -5.0]]\n",
        "X, y = datasets.make_blobs(n_samples = n_pts, random_state = 123, centers = centers, cluster_std = 0.4)\n",
        "x_data = torch.Tensor(X)\n",
        "y_data = torch.Tensor(y.reshape(100, 1))"
      ],
      "execution_count": 0,
      "outputs": []
    },
    {
      "cell_type": "code",
      "metadata": {
        "id": "twFWqql_K2Z8",
        "colab_type": "code",
        "colab": {}
      },
      "source": [
        "def scatter_plot():\n",
        "  plt.scatter(X[y==0, 0], X[y==0, 1])\n",
        "  plt.scatter(X[y==1, 0], X[y==1, 1])"
      ],
      "execution_count": 0,
      "outputs": []
    },
    {
      "cell_type": "code",
      "metadata": {
        "id": "yaVkJyNeP7rZ",
        "colab_type": "code",
        "colab": {}
      },
      "source": [
        "class Model(nn.Module):\n",
        "  def __init__(self, input_size, output_size):\n",
        "    super().__init__()\n",
        "    self.linear = nn.Linear(input_size, output_size)\n",
        "  def forward(self, x):\n",
        "    pred = torch.sigmoid(self.linear(x))\n",
        "    return pred"
      ],
      "execution_count": 0,
      "outputs": []
    },
    {
      "cell_type": "code",
      "metadata": {
        "id": "VsoSlK6MRqus",
        "colab_type": "code",
        "colab": {
          "base_uri": "https://localhost:8080/",
          "height": 68
        },
        "outputId": "daca7777-1adb-41aa-98d7-04a990f76e56"
      },
      "source": [
        "torch.manual_seed(2)\n",
        "model = Model(2, 1)\n",
        "print(list(model.parameters()))"
      ],
      "execution_count": 5,
      "outputs": [
        {
          "output_type": "stream",
          "text": [
            "[Parameter containing:\n",
            "tensor([[ 0.1622, -0.1683]], requires_grad=True), Parameter containing:\n",
            "tensor([0.1939], requires_grad=True)]\n"
          ],
          "name": "stdout"
        }
      ]
    },
    {
      "cell_type": "code",
      "metadata": {
        "id": "kXBH5z3BSAzi",
        "colab_type": "code",
        "colab": {}
      },
      "source": [
        "[w, b] = model.parameters()\n",
        "w1, w2 = w.view(2)\n",
        "\n",
        "def get_params():\n",
        "  return (w1.item(), w2.item(), b[0].item())"
      ],
      "execution_count": 0,
      "outputs": []
    },
    {
      "cell_type": "code",
      "metadata": {
        "id": "xgQlVy7rS5B6",
        "colab_type": "code",
        "colab": {}
      },
      "source": [
        "def plot_fit(title):\n",
        "  plt.title = title\n",
        "  w1, w2, b = get_params()\n",
        "  x1 = np.array([-2.0, 2.0])\n",
        "  x2 = (w1*x1 + b) / -w2\n",
        "  plt.plot(x1, x2, 'r')\n",
        "  scatter_plot()"
      ],
      "execution_count": 0,
      "outputs": []
    },
    {
      "cell_type": "code",
      "metadata": {
        "id": "ySz3XslOT7vZ",
        "colab_type": "code",
        "colab": {
          "base_uri": "https://localhost:8080/",
          "height": 269
        },
        "outputId": "ab4ec902-6024-4737-e197-b099b135443e"
      },
      "source": [
        "plot_fit(\"Initial model\")"
      ],
      "execution_count": 8,
      "outputs": [
        {
          "output_type": "display_data",
          "data": {
            "image/png": "[encoded data removed]",
            "text/plain": [
              "<Figure size 432x288 with 1 Axes>"
            ]
          },
          "metadata": {
            "tags": []
          }
        }
      ]
    },
    {
      "cell_type": "code",
      "metadata": {
        "id": "b5omWmEDpnkS",
        "colab_type": "code",
        "colab": {}
      },
      "source": [
        "criterion = nn.BCELoss()\n",
        "optimiser = torch.optim.SGD(model.parameters(), lr=0.01)"
      ],
      "execution_count": 0,
      "outputs": []
    },
    {
      "cell_type": "code",
      "metadata": {
        "id": "UH2geN-y4UL5",
        "colab_type": "code",
        "colab": {}
      },
      "source": [
        "epochs = 1000\n",
        "losses = []\n",
        "\n",
        "for i in range(epochs):\n",
        "  y_pred = model.forward(x_data)\n",
        "  loss = criterion(y_pred, y_data)\n",
        "  \n",
        "  print('epoch: ', i, 'loss: ', loss)\n",
        "\n",
        "  losses.append(loss.item())\n",
        "  optimiser.zero_grad()\n",
        "  loss.backward()\n",
        "  optimiser.step()"
      ],
      "execution_count": 0,
      "outputs": []
    },
    {
      "cell_type": "code",
      "metadata": {
        "id": "L6scDZ6x5WlU",
        "colab_type": "code",
        "colab": {
          "base_uri": "https://localhost:8080/",
          "height": 300
        },
        "outputId": "7fca97fe-e136-4605-fcfd-522376cf9c27"
      },
      "source": [
        "plt.plot(range(epochs), losses)\n",
        "plt.ylabel('loss')\n",
        "plt.xlabel('epoch')"
      ],
      "execution_count": 11,
      "outputs": [
        {
          "output_type": "execute_result",
          "data": {
            "text/plain": [
              "Text(0.5, 0, 'epoch')"
            ]
          },
          "metadata": {
            "tags": []
          },
          "execution_count": 11
        },
        {
          "output_type": "display_data",
          "data": {
            "image/png": "[encoded data removed]",
            "text/plain": [
              "<Figure size 432x288 with 1 Axes>"
            ]
          },
          "metadata": {
            "tags": []
          }
        }
      ]
    },
    {
      "cell_type": "code",
      "metadata": {
        "id": "Rx6YpuTG5lI5",
        "colab_type": "code",
        "colab": {
          "base_uri": "https://localhost:8080/",
          "height": 269
        },
        "outputId": "c0152059-cd3c-4b0f-e0ca-8a5616648e79"
      },
      "source": [
        "plot_fit('Trained model')"
      ],
      "execution_count": 12,
      "outputs": [
        {
          "output_type": "display_data",
          "data": {
            "image/png": "[encoded data removed]",
            "text/plain": [
              "<Figure size 432x288 with 1 Axes>"
            ]
          },
          "metadata": {
            "tags": []
          }
        }
      ]
    },
    {
      "cell_type": "code",
      "metadata": {
        "id": "ipuAYdr27YeY",
        "colab_type": "code",
        "colab": {
          "base_uri": "https://localhost:8080/",
          "height": 303
        },
        "outputId": "32dbe2b9-3a2e-4d3c-c632-1576a2674c00"
      },
      "source": [
        "point1 = torch.Tensor([1.0, -1.0])\n",
        "point2 = torch.Tensor([-1.0, 1.0])\n",
        "\n",
        "plt.plot(point1.numpy()[0], point1.numpy()[1], 'ro')\n",
        "plt.plot(point2.numpy()[0], point2.numpy()[1], 'ko')\n",
        "\n",
        "print(\"Red point positive probability  = {}\".format(model.forward(point1).item()))\n",
        "print(\"Black point positive probability  = {}\".format(model.forward(point2).item()))\n",
        "plot_fit('Trained model')"
      ],
      "execution_count": 15,
      "outputs": [
        {
          "output_type": "stream",
          "text": [
            "Red point positive probability  = 0.8062304854393005\n",
            "Black point positive probability  = 0.2539178431034088\n"
          ],
          "name": "stdout"
        },
        {
          "output_type": "display_data",
          "data": {
            "image/png": "[encoded data removed]",
            "text/plain": [
              "<Figure size 432x288 with 1 Axes>"
            ]
          },
          "metadata": {
            "tags": []
          }
        }
      ]
    }
  ]
}